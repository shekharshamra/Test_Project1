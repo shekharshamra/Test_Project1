{
 "cells": [
  {
   "cell_type": "code",
   "execution_count": 1,
   "metadata": {},
   "outputs": [
    {
     "name": "stdout",
     "output_type": "stream",
     "text": [
      "Enter thre number1,2,3,4\n",
      "4 <class 'int'>\n",
      "Median is :3.5\n"
     ]
    }
   ],
   "source": [
    "#Generic way of solving median problem\n",
    "num=input(\"Enter thre number\").split(\",\")\n",
    "l=len(num)\n",
    "print(l,type(l))\n",
    "if(l%2 !=0) :\n",
    "    m=int(l/2)\n",
    "    print(f\"Median is :{float(num[1])}\")\n",
    "else :\n",
    "    m=int(l/2)\n",
    "    median =(int(num[m])+int(num[m+1]))/2\n",
    "    #med=median/2\n",
    "    print(f\"Median is :{(int(num[m])+int(num[m+1]))/2}\")"
   ]
  },
  {
   "cell_type": "code",
   "execution_count": null,
   "metadata": {},
   "outputs": [],
   "source": []
  }
 ],
 "metadata": {
  "kernelspec": {
   "display_name": "Python 3",
   "language": "python",
   "name": "python3"
  },
  "language_info": {
   "codemirror_mode": {
    "name": "ipython",
    "version": 3
   },
   "file_extension": ".py",
   "mimetype": "text/x-python",
   "name": "python",
   "nbconvert_exporter": "python",
   "pygments_lexer": "ipython3",
   "version": "3.7.3"
  }
 },
 "nbformat": 4,
 "nbformat_minor": 2
}
