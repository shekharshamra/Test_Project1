{
 "cells": [
  {
   "cell_type": "code",
   "execution_count": null,
   "metadata": {
    "scrolled": true
   },
   "outputs": [],
   "source": [
    "grocery=[\"jam\",\"milk\",\"chocolate\"]\n",
    "for i in grocery :\n",
    "    print(f\"{i} {len(i)}\", end =\"*\")"
   ]
  },
  {
   "cell_type": "code",
   "execution_count": null,
   "metadata": {},
   "outputs": [],
   "source": [
    "for n in range(100,401) :  \n",
    "    num = n\n",
    "    c=0\n",
    "    while n!=0 :\n",
    "        r=int(n%10)\n",
    "        if r % 2 != 0 :\n",
    "            c=1\n",
    "        n=int(n/10)\n",
    "    if c == 0:\n",
    "        print(num)"
   ]
  },
  {
   "cell_type": "code",
   "execution_count": null,
   "metadata": {},
   "outputs": [],
   "source": [
    "hage=int(input(\"Enter dog's age in human years :\"))\n",
    "dage = int((10.5*2)+((hage-2)*4))\n",
    "print(f\"Dog's age in dog's year: {dage}\")"
   ]
  },
  {
   "cell_type": "code",
   "execution_count": null,
   "metadata": {},
   "outputs": [],
   "source": [
    "def check(ch) :\n",
    "    if ch in ('a','e','i','o','u','A','E','O','I','U') :\n",
    "        print(\"it is vowel\")\n",
    "    else :\n",
    "        print(\"it is a consonant\")"
   ]
  },
  {
   "cell_type": "code",
   "execution_count": null,
   "metadata": {},
   "outputs": [],
   "source": [
    "ch=input(\"Enter a char:\")\n",
    "if len(ch) == 1 :\n",
    "    check(ch)\n",
    "else :\n",
    "    print(\"Not a valid input\")"
   ]
  },
  {
   "cell_type": "code",
   "execution_count": null,
   "metadata": {},
   "outputs": [],
   "source": [
    "month=[\"jan\",\"feb\",\"mar\",\"apr\",\"may\",\"jun\",\"jul\",\"aug\",\"sep\",\"oct\",\"nov\",\"dec\"]\n",
    "days=[\"31\",\"28/29\",\"31\",\"30\",\"31\",\"30\",\"31\",\"31\",\"30\",\"31\",\"30\",\"31\"]\n",
    "mname = input(\"enter month name\")\n",
    "if mname in month :\n",
    "    i = month.index(mname)\n",
    "    print(f\"num of days in {mname} are :{days[i]}\")\n",
    "    #print(days[i])\n",
    "else :\n",
    "    print(\"not a valid month\")\n"
   ]
  },
  {
   "cell_type": "code",
   "execution_count": null,
   "metadata": {},
   "outputs": [],
   "source": [
    "num=input(\"Enter numbers\").split(\",\")\n",
    "sum = int(num[0])+int(num[1])\n",
    "if sum in range(15,21):\n",
    "    print(\"sum is 20\")\n",
    "else :\n",
    "    print(f\"sum of two numbers is : {sum}\")"
   ]
  },
  {
   "cell_type": "code",
   "execution_count": null,
   "metadata": {},
   "outputs": [],
   "source": [
    "s=input(\"Enter a string\")\n",
    "if s.isnumeric() :\n",
    "    print(\"The string is a number\")\n",
    "else :\n",
    "    print(\"The string is not a number\")"
   ]
  },
  {
   "cell_type": "code",
   "execution_count": null,
   "metadata": {},
   "outputs": [],
   "source": [
    "print(\"Input length of triangle side\")\n",
    "x=int(input(\"x :\"))\n",
    "y=int(input(\"y :\"))\n",
    "z=int(input(\"z :\"))\n",
    "if  x ==y and y ==z :\n",
    "    print(\"Equilateral triangle\")\n",
    "elif (x == y or y ==z or z==x) :\n",
    "    print(\"Isosceles triangle\")\n",
    "else :\n",
    "    print(\"Scalene triangle\")"
   ]
  },
  {
   "cell_type": "code",
   "execution_count": null,
   "metadata": {},
   "outputs": [],
   "source": [
    "num=input(\"Enter thre number\").split(\",\")\n",
    "print(f\"Median is :{float(num[1])}\")"
   ]
  },
  {
   "cell_type": "markdown",
   "metadata": {},
   "source": [
    "#Generic way"
   ]
  },
  {
   "cell_type": "code",
   "execution_count": null,
   "metadata": {},
   "outputs": [],
   "source": [
    "#Generic way of solving median problem\n",
    "num=input(\"Enter thre number\").split(\",\")\n",
    "l=len(num)\n",
    "if(l%2 !=0) :\n",
    "    m=int(l/2)\n",
    "    print(f\"Median is :{float(num[m])}\")\n",
    "else :\n",
    "    m=int(l/2)\n",
    "    median =(int(num[m-1])+int(num[m]))\n",
    "    med=median/2\n",
    "    print(f\"Median is :{(int(num[m-1])+int(num[m]))/2}\")"
   ]
  },
  {
   "cell_type": "code",
   "execution_count": null,
   "metadata": {},
   "outputs": [],
   "source": [
    "#Ques 19.\n",
    "num = int(input(\"Enter a number\"))\n",
    "i = 1\n",
    "while i <= 10 :\n",
    "    print(f\"{num} * {i} = {num*i}\")\n",
    "    i=i+1"
   ]
  },
  {
   "cell_type": "code",
   "execution_count": null,
   "metadata": {},
   "outputs": [],
   "source": [
    "#Ques 20.\n",
    "for i in range(1,10) :\n",
    "    for j in range(1,i+1) :\n",
    "        print(i,end=\" \")\n",
    "    print()"
   ]
  },
  {
   "cell_type": "code",
   "execution_count": null,
   "metadata": {},
   "outputs": [],
   "source": [
    "#Ques 21.\n",
    "def time_cal_yrs(p,r,emi) :\n",
    "    t_amt=p+p*r\n",
    "    t_emi=emi*12\n",
    "    t=t_amt/t_emi\n",
    "    print(f\"{t} years\")"
   ]
  },
  {
   "cell_type": "code",
   "execution_count": null,
   "metadata": {},
   "outputs": [],
   "source": [
    "p1= 1000000\n",
    "r1 =0.115\n",
    "emi1 = 25000\n",
    "time_cal_yrs(p1,r1,emi1)"
   ]
  },
  {
   "cell_type": "code",
   "execution_count": null,
   "metadata": {},
   "outputs": [],
   "source": [
    "#Ques 22.\n",
    "def time_cal_mnth(p,r,emi) :\n",
    "    t_amt=p+p*r\n",
    "    t=(t_amt/emi)\n",
    "    print(f\"{t} months\")"
   ]
  },
  {
   "cell_type": "code",
   "execution_count": null,
   "metadata": {},
   "outputs": [],
   "source": [
    "p1= 1000000\n",
    "r1 =0.115\n",
    "emi1 = 25000\n",
    "time_cal_mnth(p1,r1,emi1)"
   ]
  },
  {
   "cell_type": "code",
   "execution_count": null,
   "metadata": {},
   "outputs": [],
   "source": [
    "#Ques 23.\n",
    "p= 1000000\n",
    "r =0.115\n",
    "t = 20*12\n",
    "t_amt=p+p*r\n",
    "print(t_amt/t)\n",
    "#t=(t_amt/emi)"
   ]
  },
  {
   "cell_type": "code",
   "execution_count": null,
   "metadata": {},
   "outputs": [],
   "source": [
    "#Ques 24.\n",
    "f_age = 50\n",
    "b_age = 1\n",
    "t=0\n",
    "while b_age <= f_age :\n",
    "    b_age=b_age*3\n",
    "    t+=1\n",
    "print(t)    "
   ]
  },
  {
   "cell_type": "code",
   "execution_count": null,
   "metadata": {},
   "outputs": [],
   "source": [
    "#Ques 25 .\n",
    "def cal_time(p,r) :\n",
    "    end_p= 2*p\n",
    "    t =0\n",
    "    while p <= end_p:\n",
    "        p=p+p*r\n",
    "        t+=1\n",
    "        print(p,t) \n",
    "        \n",
    "p=100000\n",
    "r=0.09\n",
    "cal_time(p,r)\n",
    "\n",
    "#Ques 26 .\n",
    "def cal_int(p,t) :\n",
    "    end_p= 2*p\n",
    "    t =0\n",
    "    while p <= end_p:\n",
    "        p=p+p*r\n",
    "        end_p=p+p*r\n",
    "        end_p-p=p*r\n",
    "        (end_p-p)/p=r\n",
    "        t+=1\n",
    "        print(p,t) \n",
    "        \n"
   ]
  },
  {
   "cell_type": "code",
   "execution_count": 1,
   "metadata": {},
   "outputs": [
    {
     "name": "stdout",
     "output_type": "stream",
     "text": [
      "0.01\n",
      "0.02\n",
      "0.03\n",
      "0.04\n",
      "0.05\n",
      "0.06\n",
      "0.07\n",
      "0.08\n",
      "0.09\n",
      "0.1\n",
      "0.11\n",
      "0.12\n",
      "0.13\n",
      "0.14\n",
      "0.15\n",
      "0.16\n",
      "0.17\n",
      "0.18\n",
      "0.19\n",
      "0.2\n",
      "0.21\n",
      "0.22\n",
      "0.23\n",
      "0.24\n",
      "0.25\n",
      "0.26\n",
      "0.27\n",
      "0.28\n",
      "0.29\n",
      "0.3\n",
      "0.31\n",
      "0.32\n",
      "0.33\n",
      "0.34\n",
      "0.35\n",
      "0.36\n",
      "0.37\n",
      "0.38\n",
      "0.39\n",
      "0.4\n",
      "0.41\n",
      "0.42\n",
      "0.43\n",
      "0.44\n",
      "0.45\n",
      "0.46\n",
      "0.47\n",
      "0.48\n",
      "0.49\n",
      "0.5\n",
      "0.51\n",
      "0.52\n",
      "0.53\n",
      "0.54\n",
      "0.55\n",
      "0.56\n",
      "0.57\n",
      "0.58\n",
      "0.59\n",
      "0.6\n",
      "0.61\n",
      "0.62\n",
      "0.63\n",
      "0.64\n",
      "0.65\n",
      "0.66\n",
      "0.67\n",
      "0.68\n",
      "0.69\n",
      "0.7\n",
      "0.71\n",
      "0.72\n",
      "0.73\n",
      "0.74\n",
      "0.75\n",
      "0.76\n",
      "0.77\n",
      "0.78\n",
      "0.79\n",
      "0.8\n",
      "0.81\n",
      "0.82\n",
      "0.83\n",
      "0.84\n",
      "0.85\n",
      "0.86\n",
      "0.87\n",
      "0.88\n",
      "0.89\n",
      "0.9\n",
      "0.91\n",
      "0.92\n",
      "0.93\n",
      "0.94\n",
      "0.95\n",
      "0.96\n",
      "0.97\n",
      "0.98\n",
      "0.99\n"
     ]
    }
   ],
   "source": [
    "for i in range (1,100) :\n",
    "    print(i/100)"
   ]
  },
  {
   "cell_type": "code",
   "execution_count": null,
   "metadata": {},
   "outputs": [],
   "source": []
  }
 ],
 "metadata": {
  "kernelspec": {
   "display_name": "Python 3",
   "language": "python",
   "name": "python3"
  },
  "language_info": {
   "codemirror_mode": {
    "name": "ipython",
    "version": 3
   },
   "file_extension": ".py",
   "mimetype": "text/x-python",
   "name": "python",
   "nbconvert_exporter": "python",
   "pygments_lexer": "ipython3",
   "version": "3.7.3"
  }
 },
 "nbformat": 4,
 "nbformat_minor": 2
}
