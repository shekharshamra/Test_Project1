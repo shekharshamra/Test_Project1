{
 "cells": [
  {
   "cell_type": "code",
   "execution_count": null,
   "metadata": {
    "scrolled": true
   },
   "outputs": [],
   "source": [
    "grocery=[\"jam\",\"milk\",\"chocolate\"]\n",
    "for i in grocery :\n",
    "    print(f\"{i} {len(i)}\", end =\"*\")"
   ]
  },
  {
   "cell_type": "code",
   "execution_count": null,
   "metadata": {},
   "outputs": [],
   "source": [
    "for n in range(100,401) :  \n",
    "    num = n\n",
    "    c=0\n",
    "    while n!=0 :\n",
    "        r=int(n%10)\n",
    "        if r % 2 != 0 :\n",
    "            c=1\n",
    "        n=int(n/10)\n",
    "    if c == 0:\n",
    "        print(num)"
   ]
  },
  {
   "cell_type": "code",
   "execution_count": null,
   "metadata": {},
   "outputs": [],
   "source": [
    "hage=int(input(\"Enter dog's age in human years :\"))\n",
    "dage = int((10.5*2)+((hage-2)*4))\n",
    "print(f\"Dog's age in dog's year: {dage}\")"
   ]
  },
  {
   "cell_type": "code",
   "execution_count": null,
   "metadata": {},
   "outputs": [],
   "source": [
    "def check(ch) :\n",
    "    if ch in ('a','e','i','o','u','A','E','O','I','U') :\n",
    "        print(\"it is vowel\")\n",
    "    else :\n",
    "        print(\"it is a consonant\")"
   ]
  },
  {
   "cell_type": "code",
   "execution_count": null,
   "metadata": {},
   "outputs": [],
   "source": [
    "ch=input(\"Enter a char:\")\n",
    "if len(ch) == 1 :\n",
    "    check(ch)\n",
    "else :\n",
    "    print(\"Not a valid input\")"
   ]
  },
  {
   "cell_type": "code",
   "execution_count": null,
   "metadata": {},
   "outputs": [],
   "source": [
    "month=[\"jan\",\"feb\",\"mar\",\"apr\",\"may\",\"jun\",\"jul\",\"aug\",\"sep\",\"oct\",\"nov\",\"dec\"]\n",
    "days=[\"31\",\"28/29\",\"31\",\"30\",\"31\",\"30\",\"31\",\"31\",\"30\",\"31\",\"30\",\"31\"]\n",
    "mname = input(\"enter month name\")\n",
    "if mname in month :\n",
    "    i = month.index(mname)\n",
    "    print(f\"num of days in {mname} are :{days[i]}\")\n",
    "    #print(days[i])\n",
    "else :\n",
    "    print(\"not a valid month\")\n"
   ]
  },
  {
   "cell_type": "code",
   "execution_count": null,
   "metadata": {},
   "outputs": [],
   "source": [
    "num=input(\"Enter numbers\").split(\",\")\n",
    "sum = int(num[0])+int(num[1])\n",
    "if sum in range(15,21):\n",
    "    print(\"sum is 20\")\n",
    "else :\n",
    "    print(f\"sum of two numbers is : {sum}\")"
   ]
  },
  {
   "cell_type": "code",
   "execution_count": null,
   "metadata": {},
   "outputs": [],
   "source": [
    "s=input(\"Enter a string\")\n",
    "if s.isnumeric() :\n",
    "    print(\"The string is a number\")\n",
    "else :\n",
    "    print(\"The string is not a number\")"
   ]
  },
  {
   "cell_type": "code",
   "execution_count": null,
   "metadata": {},
   "outputs": [],
   "source": [
    "print(\"Input length of triangle side\")\n",
    "x=int(input(\"x :\"))\n",
    "y=int(input(\"y :\"))\n",
    "z=int(input(\"z :\"))\n",
    "if  x ==y and y ==z :\n",
    "    print(\"Equilateral triangle\")\n",
    "elif (x == y or y ==z or z==x) :\n",
    "    print(\"Isosceles triangle\")\n",
    "else :\n",
    "    print(\"Scalene triangle\")"
   ]
  },
  {
   "cell_type": "code",
   "execution_count": null,
   "metadata": {},
   "outputs": [],
   "source": [
    "num=input(\"Enter thre number\").split(\",\")\n",
    "print(f\"Median is :{float(num[1])}\")"
   ]
  },
  {
   "cell_type": "markdown",
   "metadata": {},
   "source": [
    "#Generic way"
   ]
  },
  {
   "cell_type": "code",
   "execution_count": null,
   "metadata": {},
   "outputs": [],
   "source": [
    "#Generic way of solving median problem\n",
    "num=input(\"Enter thre number\").split(\",\")\n",
    "l=len(num)\n",
    "if(l%2 !=0) :\n",
    "    m=int(l/2)\n",
    "    print(f\"Median is :{float(num[m])}\")\n",
    "else :\n",
    "    m=int(l/2)\n",
    "    median =(int(num[m-1])+int(num[m]))\n",
    "    med=median/2\n",
    "    print(f\"Median is :{(int(num[m-1])+int(num[m]))/2}\")"
   ]
  },
  {
   "cell_type": "code",
   "execution_count": 1,
   "metadata": {},
   "outputs": [
    {
     "name": "stdout",
     "output_type": "stream",
     "text": [
      "Enter a number6\n",
      "6 * 1 = 6\n",
      "6 * 2 = 12\n",
      "6 * 3 = 18\n",
      "6 * 4 = 24\n",
      "6 * 5 = 30\n",
      "6 * 6 = 36\n",
      "6 * 7 = 42\n",
      "6 * 8 = 48\n",
      "6 * 9 = 54\n",
      "6 * 10 = 60\n"
     ]
    }
   ],
   "source": [
    "#Ques 19.\n",
    "num = int(input(\"Enter a number\"))\n",
    "i = 1\n",
    "while i <= 10 :\n",
    "    print(f\"{num} * {i} = {num*i}\")\n",
    "    i=i+1"
   ]
  },
  {
   "cell_type": "code",
   "execution_count": null,
   "metadata": {},
   "outputs": [],
   "source": []
  }
 ],
 "metadata": {
  "kernelspec": {
   "display_name": "Python 3",
   "language": "python",
   "name": "python3"
  },
  "language_info": {
   "codemirror_mode": {
    "name": "ipython",
    "version": 3
   },
   "file_extension": ".py",
   "mimetype": "text/x-python",
   "name": "python",
   "nbconvert_exporter": "python",
   "pygments_lexer": "ipython3",
   "version": "3.7.3"
  }
 },
 "nbformat": 4,
 "nbformat_minor": 2
}
